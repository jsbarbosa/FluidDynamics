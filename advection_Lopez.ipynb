{
 "cells": [
  {
   "cell_type": "code",
   "execution_count": 1,
   "metadata": {},
   "outputs": [],
   "source": [
    "import numpy as np\n",
    "import matplotlib.pyplot as plt\n",
    "from matplotlib.animation import FuncAnimation"
   ]
  },
  {
   "cell_type": "code",
   "execution_count": 2,
   "metadata": {},
   "outputs": [
    {
     "name": "stdout",
     "output_type": "stream",
     "text": [
      "Using matplotlib backend: Qt5Agg\n"
     ]
    }
   ],
   "source": [
    "%matplotlib"
   ]
  },
  {
   "cell_type": "markdown",
   "metadata": {},
   "source": [
    "# Advección\n",
    "\n",
    "$$\n",
    "\\frac{\\partial \\psi}{\\partial t} + \\nabla\\cdot\\left(\\psi\\vec{u}\\right) = 0\n",
    "$$\n",
    "\n",
    "# Lax Wendroff\n",
    "$$\n",
    "\\frac{\\partial \\psi}{\\partial t} + \\frac{\\partial f(\\psi)}{\\partial x} = 0\n",
    "$$\n",
    "\n",
    "$$\n",
    "\\psi_i^{n+1} = \\psi_i^{n} - \\frac{\\Delta t}{2\\Delta x}A[\\psi_{i+1}^{n}-\\psi_{i-1}^{n}] + \\frac{\\Delta t^2}{2\\Delta x^2}A^2[\\psi_{i+1}^{n}-2\\psi_i^n+\\psi_{i-1}^{n}]\n",
    "$$\n",
    "\n",
    "## Convention\n",
    "$$\n",
    "\\begin{matrix}\n",
    "f(\\psi) & = & u_x\\psi \\\\\n",
    "A & = & u_x\n",
    "\\end{matrix}\n",
    "$$"
   ]
  },
  {
   "cell_type": "code",
   "execution_count": 3,
   "metadata": {},
   "outputs": [],
   "source": [
    "def lax_wendroff_step(actual: np.array, alpha: float, beta: float) -> np.array:\n",
    "    # TODO: boundary conditions\n",
    "    actual[1:-1] = actual[1:-1] - alpha * (actual[2:] - actual[:-2]) + beta * (actual[2:] - 2 * actual[1:-1] + actual[:-2])\n",
    "    return actual\n",
    "\n",
    "def lax_wendroff(psi: np.array, dt: float, dx: float, speed: float, stop_time: float, store_every: int = 1):\n",
    "    if dx / dt < speed:\n",
    "        raise(ValueError(f\"Speed {speed} is greater than information propagation speed {dx / dt}\"))\n",
    "        \n",
    "    alpha = dt / dx * 0.5 * speed\n",
    "    beta = 0.5 * (dt * speed / dx) ** 2\n",
    "    \n",
    "    output = []\n",
    "    psi = psi.copy()\n",
    "        \n",
    "    for i in range(int(stop_time // dt)):\n",
    "        if i % store_every == 0:\n",
    "            output.append(psi.copy())\n",
    "            \n",
    "        psi = lax_wendroff_step(psi, alpha, beta)\n",
    "        \n",
    "    return np.vstack(output)"
   ]
  },
  {
   "cell_type": "code",
   "execution_count": 4,
   "metadata": {},
   "outputs": [],
   "source": [
    "n = 1000\n",
    "x = np.linspace(0, 1, n)\n",
    "psi = np.zeros(n)\n",
    "psi[int(n / 2 * (0.95)) : int(n / 2 * (1.05))] = 1\n",
    "\n",
    "dt = 1e-2"
   ]
  },
  {
   "cell_type": "code",
   "execution_count": 5,
   "metadata": {},
   "outputs": [],
   "source": [
    "output = lax_wendroff(psi, dt=dt, dx=x[1]-x[0], speed=0.1, stop_time=200 * dt, store_every=5)"
   ]
  },
  {
   "cell_type": "code",
   "execution_count": 6,
   "metadata": {},
   "outputs": [],
   "source": [
    "fig, ax = plt.subplots()\n",
    "\n",
    "line, = ax.plot(x, psi)\n",
    "\n",
    "def anim(i):\n",
    "    global line, x, output\n",
    "    line.set_data(x, output[i])\n",
    "    return line,\n",
    "\n",
    "anim = FuncAnimation(\n",
    "    fig,\n",
    "    anim,\n",
    "    frames=len(output),\n",
    "    interval=len(output) / 24\n",
    ")"
   ]
  },
  {
   "cell_type": "markdown",
   "metadata": {},
   "source": [
    "### Energía\n",
    "\n",
    "$$ k = \\frac{1}{2}u^2 $$\n",
    "$$ e = E - k $$\n",
    "\n",
    "### Presión\n",
    "\n",
    "$$ P = \\rho e (\\gamma - 1)  $$\n",
    "\n",
    "### h\n",
    "\n",
    "$$ h = e + \\frac{P}{\\rho} $$\n",
    "\n",
    "### $c_s$\n",
    "\n",
    "$$ c_s = h(\\gamma + 1) $$\n",
    "\n",
    "### Sistema de ecuaciones\n",
    "\n",
    "$$ \\frac{\\partial}{\\partial t} \n",
    "\\begin{pmatrix}\n",
    "\\rho \\\\\n",
    "\\rho u \\\\\n",
    "\\rho E \n",
    "\\end{pmatrix} + \n",
    "\\frac{\\partial}{\\partial x}\n",
    "\\begin{pmatrix}\n",
    "\\rho u\\\\\n",
    "\\rho u^2+P \\\\\n",
    "\\rho u(E + P/\\rho)\n",
    "\\end{pmatrix}\n",
    "= 0$$"
   ]
  },
  {
   "cell_type": "code",
   "execution_count": 10,
   "metadata": {},
   "outputs": [],
   "source": [
    "gamma = 3/2\n",
    "delta_t = 0.1\n",
    "delta_x = 0.1"
   ]
  },
  {
   "cell_type": "code",
   "execution_count": 8,
   "metadata": {},
   "outputs": [],
   "source": [
    "def e(u):\n",
    "    return u[2] - 0.5 * (u[1] ** 2) / u[0]\n",
    "\n",
    "def p(u):\n",
    "    return u[0] * e[u] * (gamma - 1)"
   ]
  },
  {
   "cell_type": "code",
   "execution_count": 11,
   "metadata": {},
   "outputs": [],
   "source": [
    "def F_u(u):\n",
    "    return np.array([u[1], (u[1] ** 2)/u[0] + p(u), u[1] * U(u[2] + p(u)) / u[0]])"
   ]
  },
  {
   "cell_type": "code",
   "execution_count": 12,
   "metadata": {},
   "outputs": [],
   "source": [
    "def lax_step(U):\n",
    "    U_pos_h = 0.5*(U[:, 2:] + U[:, 1:-1]) -  0.5*delta_t * (np.apply_along_axis(F_u, 0, U[:, 2:]) - np.apply_along_axis(F_u, 0, U[:, 1:-1])) / delta_x\n",
    "    U_neg_h = 0.5*(U[:, 1:-1] + U[:, :-2]) -  0.5*delta_t * (np.apply_along_axis(F_u, 0, U[:, 1:-1]) - np.apply_along_axis(F_u, 0, U[:, :-2])) / delta_x\n",
    "    U_adv = U[1:-1] - delta_t * (np.apply_along_axis(F_u, 0, U_pos_h) - np.apply_along_axis(F_u, 0, U_neg_h))\n",
    "    return U_adv"
   ]
  },
  {
   "cell_type": "code",
   "execution_count": null,
   "metadata": {},
   "outputs": [],
   "source": []
  }
 ],
 "metadata": {
  "kernelspec": {
   "display_name": "Python 3",
   "language": "python",
   "name": "python3"
  },
  "language_info": {
   "codemirror_mode": {
    "name": "ipython",
    "version": 3
   },
   "file_extension": ".py",
   "mimetype": "text/x-python",
   "name": "python",
   "nbconvert_exporter": "python",
   "pygments_lexer": "ipython3",
   "version": "3.6.9"
  }
 },
 "nbformat": 4,
 "nbformat_minor": 4
}
